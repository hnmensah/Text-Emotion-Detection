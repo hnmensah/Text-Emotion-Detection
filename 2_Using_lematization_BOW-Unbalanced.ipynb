{
 "cells": [
  {
   "cell_type": "code",
   "execution_count": 1,
   "metadata": {},
   "outputs": [],
   "source": [
    "# import all the required libraries\n",
    "import pandas as pd\n",
    "import numpy as np\n",
    "import re\n",
    "from collections import Counter\n",
    "from sklearn.model_selection import train_test_split\n",
    "from textblob import TextBlob\n",
    "from nltk.corpus import stopwords\n",
    "from textblob import Word\n",
    "from sklearn.feature_extraction.text import CountVectorizer\n",
    "from sklearn.pipeline import Pipeline\n",
    "from time import time\n",
    "from sklearn.naive_bayes import MultinomialNB\n",
    "from sklearn.naive_bayes import BernoulliNB\n",
    "from sklearn.linear_model import LogisticRegression, SGDClassifier\n",
    "from sklearn.svm import LinearSVC\n",
    "from sklearn.ensemble import RandomForestClassifier\n",
    "from sklearn.neighbors import KNeighborsClassifier\n",
    "from sklearn.metrics import classification_report\n",
    "from sklearn.metrics import accuracy_score, f1_score, confusion_matrix\n",
    "from sklearn.svm import SVC\n",
    "from sklearn.model_selection import KFold \n",
    "import matplotlib.pyplot as plt"
   ]
  },
  {
   "cell_type": "code",
   "execution_count": 2,
   "metadata": {},
   "outputs": [],
   "source": [
    "#load data\n",
    "df = pd.read_csv(\"Emotion_Unbalanced_15000.csv\")"
   ]
  },
  {
   "cell_type": "code",
   "execution_count": 3,
   "metadata": {},
   "outputs": [
    {
     "data": {
      "text/plain": [
       "15012"
      ]
     },
     "execution_count": 3,
     "metadata": {},
     "output_type": "execute_result"
    }
   ],
   "source": [
    "# total unique features in the dataset\n",
    "uniquewords = pd.Series(' '.join(df['content']).split()).value_counts()\n",
    "uniquewords.count()"
   ]
  },
  {
   "cell_type": "code",
   "execution_count": 4,
   "metadata": {},
   "outputs": [],
   "source": [
    "# Classifiying the labels are by calling the function and put it in new column Emot\n",
    "df['Emot'] = df['Emotion']"
   ]
  },
  {
   "cell_type": "code",
   "execution_count": 5,
   "metadata": {},
   "outputs": [
    {
     "data": {
      "text/plain": [
       "Counter({'sadness': 4361,\n",
       "         'joy': 5077,\n",
       "         'love': 1244,\n",
       "         'anger': 2063,\n",
       "         'fear': 1717,\n",
       "         'surprise': 1007})"
      ]
     },
     "execution_count": 5,
     "metadata": {},
     "output_type": "execute_result"
    }
   ],
   "source": [
    "# Counts the total features for each classifier\n",
    "Counter(df[\"Emot\"])"
   ]
  },
  {
   "cell_type": "code",
   "execution_count": 6,
   "metadata": {},
   "outputs": [
    {
     "data": {
      "text/plain": [
       "0    i feel awful about it too because it s my job ...\n",
       "1                                im alone i feel awful\n",
       "2             i was feeling a little low few days back\n",
       "3    i also feel disillusioned that someone who cla...\n",
       "4    i wish you knew every word i write i write for...\n",
       "Name: content, dtype: object"
      ]
     },
     "execution_count": 6,
     "metadata": {},
     "output_type": "execute_result"
    }
   ],
   "source": [
    "# connvert the features into lowercase\n",
    "df['content'] = df['content'].apply(lambda x: \" \".join(x.lower() for x in x.split()))\n",
    "df['content'].head()"
   ]
  },
  {
   "cell_type": "code",
   "execution_count": 7,
   "metadata": {},
   "outputs": [
    {
     "data": {
      "text/plain": [
       "0    i feel awful about it too because it s my job ...\n",
       "1                                im alone i feel awful\n",
       "2             i was feeling a little low few days back\n",
       "3    i also feel disillusioned that someone who cla...\n",
       "4    i wish you knew every word i write i write for...\n",
       "Name: content, dtype: object"
      ]
     },
     "execution_count": 7,
     "metadata": {},
     "output_type": "execute_result"
    }
   ],
   "source": [
    "# remove the Url from the content as they are meaningless for emotion detection\n",
    "df['content'] = df['content'].apply(lambda x: re.split('https:\\/\\/.*', str(x))[0])\n",
    "df['content'].head()"
   ]
  },
  {
   "cell_type": "code",
   "execution_count": 8,
   "metadata": {},
   "outputs": [
    {
     "data": {
      "text/plain": [
       "0    i feel awful about it too because it s my job ...\n",
       "1                                im alone i feel awful\n",
       "2             i was feeling a little low few days back\n",
       "3    i also feel disillusioned that someone who cla...\n",
       "4    i wish you knew every word i write i write for...\n",
       "Name: content, dtype: object"
      ]
     },
     "execution_count": 8,
     "metadata": {},
     "output_type": "execute_result"
    }
   ],
   "source": [
    "# remove the words starting with @ as they are not determining any emotion\n",
    "df['content'] = df['content'].apply(lambda x: \" \".join(x for x in x.split() if x[0]!=\"@\"))\n",
    "df['content'].head()"
   ]
  },
  {
   "cell_type": "code",
   "execution_count": 9,
   "metadata": {},
   "outputs": [
    {
     "data": {
      "text/plain": [
       "0    i feel awful about it too because it s my job ...\n",
       "1                                im alone i feel awful\n",
       "2             i was feeling a little low few days back\n",
       "3    i also feel disillusioned that someone who cla...\n",
       "4    i wish you knew every word i write i write for...\n",
       "Name: content, dtype: object"
      ]
     },
     "execution_count": 9,
     "metadata": {},
     "output_type": "execute_result"
    }
   ],
   "source": [
    "# remove the words starting with # as they are not determining any emotion\n",
    "df['content'] = df['content'].apply(lambda x: \" \".join(x for x in x.split() if x[0]!=\"#\"))\n",
    "df['content'].head()"
   ]
  },
  {
   "cell_type": "code",
   "execution_count": 10,
   "metadata": {},
   "outputs": [
    {
     "data": {
      "text/plain": [
       "0    i feel awful about it too because it s my job ...\n",
       "1                                in alone i feel awful\n",
       "2             i was feeling a little low few days back\n",
       "3    i also feel disillusioned that someone who cla...\n",
       "4    i wish you knew every word i write i write for...\n",
       "Name: content, dtype: object"
      ]
     },
     "execution_count": 10,
     "metadata": {},
     "output_type": "execute_result"
    }
   ],
   "source": [
    "# Do the spell check\n",
    "df['content'] = df['content'].apply(lambda x: str(TextBlob(x).correct()))\n",
    "df['content'].head()"
   ]
  },
  {
   "cell_type": "code",
   "execution_count": 11,
   "metadata": {},
   "outputs": [
    {
     "data": {
      "text/plain": [
       "0    i feel awful about it too because it s my job ...\n",
       "1                                in alone i feel awful\n",
       "2             i was feeling a little low few days back\n",
       "3    i also feel disillusioned that someone who cla...\n",
       "4    i wish you knew every word i write i write for...\n",
       "Name: content, dtype: object"
      ]
     },
     "execution_count": 11,
     "metadata": {},
     "output_type": "execute_result"
    }
   ],
   "source": [
    "# remove all the digits\n",
    "df['content'] = df['content'].str.replace('\\d+', '')\n",
    "df['content'].head()"
   ]
  },
  {
   "cell_type": "code",
   "execution_count": 12,
   "metadata": {},
   "outputs": [
    {
     "data": {
      "text/plain": [
       "0    i feel awful about it too because it s my job ...\n",
       "1                                in alone i feel awful\n",
       "2             i was feeling a little low few days back\n",
       "3    i also feel disillusioned that someone who cla...\n",
       "4    i wish you knew every word i write i write for...\n",
       "Name: content, dtype: object"
      ]
     },
     "execution_count": 12,
     "metadata": {},
     "output_type": "execute_result"
    }
   ],
   "source": [
    "# remove the non utf-8 characters with space\n",
    "df['content'] = df['content'].map(lambda x: re.sub(r'\\W+', ' ', x))\n",
    "df['content'].head()"
   ]
  },
  {
   "cell_type": "code",
   "execution_count": 13,
   "metadata": {},
   "outputs": [
    {
     "data": {
      "text/plain": [
       "0           feel awful job get position succeed happen\n",
       "1                                     alone feel awful\n",
       "2                         feeling little low days back\n",
       "3    also feel disillusioned someone claimed value ...\n",
       "4    wish knew every word write write think useless...\n",
       "Name: content, dtype: object"
      ]
     },
     "execution_count": 13,
     "metadata": {},
     "output_type": "execute_result"
    }
   ],
   "source": [
    "# Remove the stopwords\n",
    "stop = stopwords.words('english')\n",
    "df['content'] = df['content'].apply(lambda x: \" \".join(x for x in x.split() if x not in stop))\n",
    "df['content'].head()"
   ]
  },
  {
   "cell_type": "code",
   "execution_count": 14,
   "metadata": {},
   "outputs": [
    {
     "data": {
      "text/plain": [
       "0           feel awful job get position succeed happen\n",
       "1                                     alone feel awful\n",
       "2                          feeling little low day back\n",
       "3    also feel disillusioned someone claimed value ...\n",
       "4    wish knew every word write write think useless...\n",
       "Name: content, dtype: object"
      ]
     },
     "execution_count": 14,
     "metadata": {},
     "output_type": "execute_result"
    }
   ],
   "source": [
    "# Do the lametization on the features\n",
    "df['content'] = df['content'].apply(lambda x: \" \".join([Word(word).lemmatize() for word in x.split()]))\n",
    "df['content'].head()"
   ]
  },
  {
   "cell_type": "code",
   "execution_count": 15,
   "metadata": {},
   "outputs": [],
   "source": [
    "# take the content and emotion in x and y variables respectively\n",
    "x = df.content\n",
    "y = df.Emot"
   ]
  },
  {
   "cell_type": "code",
   "execution_count": 16,
   "metadata": {},
   "outputs": [],
   "source": [
    "# set the seed to avoid getting different results everytime\n",
    "SEED = 100\n",
    "# train_test_split will divide the data into 70% training set and 30% test set\n",
    "x_train, x_test, y_train, y_test = train_test_split(x, y, test_size=.3, random_state=SEED)"
   ]
  },
  {
   "cell_type": "code",
   "execution_count": 17,
   "metadata": {},
   "outputs": [
    {
     "name": "stdout",
     "output_type": "stream",
     "text": [
      "Train set has total 10828 entries with 28.02% sadness, 33.21% joy, 8.19% love, 13.07% anger, 11.09% fear, 6.42% surprise\n",
      "Test set has total 4641 entries with 28.59% sadness, 31.91% joy, 7.69% love, 13.96% anger, 11.12% fear , 6.72% surprise\n"
     ]
    }
   ],
   "source": [
    "# print total training set count and percent of each class (6 classes)\n",
    "print(\"Train set has total {0} entries with {1:.2f}% sadness, {2:.2f}% joy, {3:.2f}% love, {4:.2f}% anger, {5:.2f}% fear, {6:.2f}% surprise\".format(len(x_train),\n",
    "                                                                              (len(x_train[y_train == \"sadness\"]) / (len(x_train)*1.))*100,\n",
    "                                                                            (len(x_train[y_train == \"joy\"]) / (len(x_train)*1.))*100,\n",
    "                                                                             (len(x_train[y_train == \"love\"]) / (len(x_train)*1.))*100,\n",
    "                                                                            (len(x_train[y_train == \"anger\"]) / (len(x_train)*1.))*100,\n",
    "                                                                             (len(x_train[y_train == \"fear\"]) / (len(x_train)*1.))*100,                                                                        \n",
    "                                                                            (len(x_train[y_train == \"surprise\"]) / (len(x_train)*1.))*100))\n",
    "# print total test set count and percent of each class (6 classes)\n",
    "print(\"Test set has total {0} entries with {1:.2f}% sadness, {2:.2f}% joy, {3:.2f}% love, {4:.2f}% anger, {5:.2f}% fear , {6:.2f}% surprise\".format(len(x_test),\n",
    "                                                                             (len(x_test[y_test == \"sadness\"]) / (len(x_test)*1.))*100,\n",
    "                                                                            (len(x_test[y_test == \"joy\"]) / (len(x_test)*1.))*100,\n",
    "                                                                             (len(x_test[y_test == \"love\"]) / (len(x_test)*1.))*100,\n",
    "                                                                            (len(x_test[y_test == \"anger\"]) / (len(x_test)*1.))*100,\n",
    "                                                                             (len(x_test[y_test == \"fear\"]) / (len(x_test)*1.))*100,                                                                        \n",
    "                                                                            (len(x_test[y_test == \"surprise\"]) / (len(x_test)*1.))*100))\n"
   ]
  },
  {
   "cell_type": "code",
   "execution_count": 18,
   "metadata": {},
   "outputs": [],
   "source": [
    "# this function will be called from nfeature_accuracy_checker, this will fit the pipeline on training set and\n",
    "#  give the accuracy score for the text set for all the features from 1000 till 10001 and for each ngram\n",
    "def accuracy_summary(pipeline, x_train, y_train, x_test, y_test):\n",
    "    sentiment_fit = pipeline.fit(x_train, y_train)      # fit pileline on training set\n",
    "    y_pred = sentiment_fit.predict(x_test)              # predict the test content that which emotion each content is having\n",
    "    accuracy = accuracy_score(y_test, y_pred)           # check the accuracy score for the prediction on test set\n",
    "#     print(\"accuracy score: {0:.2f}%\".format(accuracy*100)) \n",
    "#     print(\"-\"*80) \n",
    "    return accuracy  # return the accuracy score to the nfeature_accuracy_checker"
   ]
  },
  {
   "cell_type": "code",
   "execution_count": 19,
   "metadata": {},
   "outputs": [],
   "source": [
    "# this function will be called from get_best_ngrams, this will check the accuracy for every 500 features \n",
    "# from 1000 upto 10001 and it will return the result as accuracy\n",
    "def nfeature_accuracy_checker(vectorizer, n_features, stop_words, ngram_range, classifier):\n",
    "    result = []\n",
    "#     print (classifier)\n",
    "#     print(\"\\n\")\n",
    "# loop through all the features from 1000 to 10001 for each ngram (unigram, bigram, trigram)\n",
    "    for n in n_features:\n",
    "        # set the parameters of vectorizer (stopwords, features and ngram into consideration)\n",
    "        vectorizer.set_params(stop_words=stop_words, max_features=n, ngram_range=ngram_range)\n",
    "        checker_pipeline = Pipeline([                    # create a pipeline, pass vectorizor and classifier to it\n",
    "            ('vectorizer', vectorizer),\n",
    "            ('classifier', classifier)\n",
    "        ])\n",
    "#         print(\"Validation result for {} features\".format(n)) \n",
    "        # call the accuracy_summary function to fit on train set and predict the accuracy on test set\n",
    "        nfeature_accuracy = accuracy_summary(checker_pipeline, x_train, y_train, x_test, y_test)\n",
    "        result.append((n,nfeature_accuracy)) # append the accuracy for each features\n",
    "    return result  # result is returned to the get_best_ngram function for each ngram(unigram, bigram, trigram)"
   ]
  },
  {
   "cell_type": "code",
   "execution_count": 20,
   "metadata": {},
   "outputs": [],
   "source": [
    "# this function will be call from get_best_ngrams, this will create a plot for all the features against each considered ngrams\n",
    "def plot_feature_comparision(ug, bg, tg):\n",
    "    nfeatures_plot_tg = pd.DataFrame(tg,columns=['nfeatures','validation_accuracy'])\n",
    "    nfeatures_plot_bg = pd.DataFrame(bg,columns=['nfeatures','validation_accuracy'])\n",
    "    nfeatures_plot_ug = pd.DataFrame(ug,columns=['nfeatures','validation_accuracy'])\n",
    "\n",
    "    plt.figure(figsize=(8,6))\n",
    "    plt.plot(nfeatures_plot_tg.nfeatures, nfeatures_plot_tg.validation_accuracy,label='trigram')\n",
    "    plt.plot(nfeatures_plot_bg.nfeatures, nfeatures_plot_bg.validation_accuracy,label='bigram')\n",
    "    plt.plot(nfeatures_plot_ug.nfeatures, nfeatures_plot_ug.validation_accuracy, label='unigram')\n",
    "    plt.title(\"N-gram(1~3) test result : Accuracy\")\n",
    "    plt.xlabel(\"Number of features\")\n",
    "    plt.ylabel(\"Validation set accuracy\")\n",
    "    plt.legend()\n",
    "    return;"
   ]
  },
  {
   "cell_type": "code",
   "execution_count": 21,
   "metadata": {},
   "outputs": [],
   "source": [
    "# this function checks the best n-gram for the classifier\n",
    "def get_best_ngrams(cvec, n_features, stp, cls):\n",
    "    ngs = [                                             \n",
    "    (1,1),\n",
    "    (1,2),\n",
    "    (1,3)]                                  # this ngs is an array of unigram, bigram and trigram\n",
    "    feature_result_ug = ''                  # this variable will hold the result for unigram\n",
    "    feature_result_bg = ''                  # this variable will hold the result for biagram\n",
    "    feature_result_tg = ''                  # this variable will hold the result for trigram\n",
    "    for ng in ngs:                          # loop through each n-gram (unigram, bigram, trigram) and call the function to return accuracy for each\n",
    "        if ng == (1,1):                 \n",
    "#             print(\"RESULT FOR UNIGRAM\\n\") \n",
    "            feature_result_ug = nfeature_accuracy_checker(cvec, n_features, stp, ng, cls) \n",
    "        elif ng == (1,2):                                                       \n",
    "#             print(\"RESULT FOR BIGRAM\\n\")\n",
    "            feature_result_bg = nfeature_accuracy_checker(cvec, n_features, stp, ng, cls) \n",
    "        elif ng == (1,3):                                                                \n",
    "#             print(\"RESULT FOR TRIGRAM\\n\") \n",
    "            feature_result_tg = nfeature_accuracy_checker(cvec, n_features, stp, ng, cls)\n",
    "    print (cls)\n",
    "    plot_feature_comparision(feature_result_ug, feature_result_bg, feature_result_tg)  # this function plots the feature comparison for each n gram\n",
    "    return;"
   ]
  },
  {
   "cell_type": "code",
   "execution_count": 22,
   "metadata": {},
   "outputs": [],
   "source": [
    "def train_test_and_evaluate(pipeline, x_train, y_train, x_test, y_test):\n",
    "    sentiment_fit = pipeline.fit(x_train, y_train)\n",
    "    y_pred = sentiment_fit.predict(x_test)\n",
    "    accuracy = accuracy_score(y_test, y_pred)\n",
    "    conmat = np.array(confusion_matrix(y_test, y_pred, labels=['sadness', 'joy', 'love', 'anger', 'fear', 'surprise']))\n",
    "    confusion = pd.DataFrame(conmat, index=['sadness', 'joy', 'love', 'anger', 'fear', 'surprise'],\n",
    "                         columns=['sadness', 'joy', 'love', 'anger', 'fear', 'surprise'])\n",
    "    print(\"accuracy score: {0:.2f}%\".format(accuracy*100)) \n",
    "    print(\"-\"*80)\n",
    "    print(\"Confusion Matrix\\n\")\n",
    "    print(confusion) \n",
    "    print(\"-\"*80) \n",
    "    print(\"Classification Report\\n\") \n",
    "    print(classification_report(y_test, y_pred, target_names=['sadness', 'joy', 'love', 'anger', 'fear', 'surprise']))\n",
    "    return sentiment_fit;"
   ]
  },
  {
   "cell_type": "code",
   "execution_count": 23,
   "metadata": {},
   "outputs": [],
   "source": [
    "def classifivation_report(mf, ng, spl):\n",
    "    ug_cvec = CountVectorizer(max_features=mf, ngram_range=ng)\n",
    "    ug_pipeline = Pipeline([\n",
    "            ('vectorizer', ug_cvec),\n",
    "            ('classifier', cls)\n",
    "        ])\n",
    "    sentiment_fit = train_test_and_evaluate(ug_pipeline, x_train, y_train, x_test, y_test)\n",
    "    cv_kfold(spl, ug_pipeline)\n",
    "    return sentiment_fit, ug_pipeline;"
   ]
  },
  {
   "cell_type": "code",
   "execution_count": 35,
   "metadata": {},
   "outputs": [],
   "source": [
    "# this function performs K-fold cross valdation for K=10\n",
    "def cv_kfold(spl, pipeline):\n",
    "    kf = KFold(n_splits=spl, shuffle=True)\n",
    "    kf.get_n_splits(x)\n",
    "    print(kf) \n",
    "    accuracy_kfold = 0\n",
    "    accuracy_kfold_avg = 0\n",
    "    for train_index, test_index in kf.split(x):\n",
    "        x_train_cv, x_test_cv = x[train_index], x[test_index]\n",
    "        y_train_cv, y_test_cv = y[train_index], y[test_index]\n",
    "        fit = pipeline.fit(x_train_cv, y_train_cv)\n",
    "        y_pred_cv = fit.predict(x_test_cv)\n",
    "        accuracy_kfold = accuracy_score(y_test_cv, y_pred_cv)\n",
    "        accuracy_kfold_avg = accuracy_kfold_avg + accuracy_kfold\n",
    "        print(accuracy_kfold)\n",
    "\n",
    "    print(\"Avg Accuracy\",accuracy_kfold_avg/kf.get_n_splits())"
   ]
  },
  {
   "cell_type": "code",
   "execution_count": 25,
   "metadata": {},
   "outputs": [
    {
     "data": {
      "text/plain": [
       "10575"
      ]
     },
     "execution_count": 25,
     "metadata": {},
     "output_type": "execute_result"
    }
   ],
   "source": [
    "freq = pd.Series(' '.join(df['content']).split()).value_counts()\n",
    "freq.count()"
   ]
  },
  {
   "cell_type": "code",
   "execution_count": 26,
   "metadata": {},
   "outputs": [],
   "source": [
    "cvec = CountVectorizer()\n",
    "n_features = np.arange(1000,10001,500)\n",
    "stp = None"
   ]
  },
  {
   "cell_type": "code",
   "execution_count": 36,
   "metadata": {
    "scrolled": false
   },
   "outputs": [
    {
     "name": "stdout",
     "output_type": "stream",
     "text": [
      "LogisticRegression(C=1.0, class_weight=None, dual=False, fit_intercept=True,\n",
      "          intercept_scaling=1, max_iter=100, multi_class='multinomial',\n",
      "          n_jobs=None, penalty='l2', random_state=None, solver='newton-cg',\n",
      "          tol=0.0001, verbose=0, warm_start=False)\n"
     ]
    },
    {
     "data": {
      "image/png": "[encoded data removed]",
      "text/plain": [
       "<Figure size 576x432 with 1 Axes>"
      ]
     },
     "metadata": {
      "needs_background": "light"
     },
     "output_type": "display_data"
    }
   ],
   "source": [
    "cls = LogisticRegression(solver='newton-cg', multi_class='multinomial')\n",
    "get_best_ngrams(cvec, n_features, stp, cls)"
   ]
  },
  {
   "cell_type": "code",
   "execution_count": 37,
   "metadata": {},
   "outputs": [
    {
     "name": "stdout",
     "output_type": "stream",
     "text": [
      "accuracy score: 89.27%\n",
      "--------------------------------------------------------------------------------\n",
      "Confusion Matrix\n",
      "\n",
      "          sadness   joy  love  anger  fear  surprise\n",
      "sadness      1248    32     6     28    11         2\n",
      "joy            20  1388    52      4     6        11\n",
      "love            4    71   279      1     1         1\n",
      "anger          46    27     2    538    32         3\n",
      "fear           25    23     3      5   424        36\n",
      "surprise        3    20     0      1    22       266\n",
      "--------------------------------------------------------------------------------\n",
      "Classification Report\n",
      "\n",
      "              precision    recall  f1-score   support\n",
      "\n",
      "     sadness       0.93      0.83      0.88       648\n",
      "         joy       0.85      0.82      0.84       516\n",
      "        love       0.89      0.94      0.91      1481\n",
      "       anger       0.82      0.78      0.80       357\n",
      "        fear       0.93      0.94      0.93      1327\n",
      "    surprise       0.83      0.85      0.84       312\n",
      "\n",
      "   micro avg       0.89      0.89      0.89      4641\n",
      "   macro avg       0.88      0.86      0.87      4641\n",
      "weighted avg       0.89      0.89      0.89      4641\n",
      "\n",
      "KFold(n_splits=10, random_state=None, shuffle=True)\n",
      "0.8965740142210731\n",
      "0.8959276018099548\n",
      "0.892049127343245\n",
      "0.8842921784098254\n",
      "0.885585003232062\n",
      "0.8991596638655462\n",
      "0.8829993535875889\n",
      "0.9004524886877828\n",
      "0.8784744667097608\n",
      "0.8945666235446313\n",
      "Avg Accuracy 0.8910080521411473\n"
     ]
    }
   ],
   "source": [
    "mf_ = 6000\n",
    "ng_ = (1,3)\n",
    "spl_= 10\n",
    "sentiment_fit, ug_pipeline = classifivation_report(mf_, ng_, spl_)"
   ]
  },
  {
   "cell_type": "code",
   "execution_count": null,
   "metadata": {},
   "outputs": [],
   "source": [
    "y_pred = sentiment_fit.predict(['Damm servers still down  i need to hit 80 before all the koxpers pass me'])\n",
    "y_pred"
   ]
  },
  {
   "cell_type": "code",
   "execution_count": 30,
   "metadata": {},
   "outputs": [
    {
     "name": "stdout",
     "output_type": "stream",
     "text": [
      "MultinomialNB(alpha=1.0, class_prior=None, fit_prior=True)\n"
     ]
    },
    {
     "data": {
      "image/png": "[encoded data removed]",
      "text/plain": [
       "<Figure size 576x432 with 1 Axes>"
      ]
     },
     "metadata": {
      "needs_background": "light"
     },
     "output_type": "display_data"
    }
   ],
   "source": [
    "cls = MultinomialNB()\n",
    "get_best_ngrams(cvec, n_features, stp, cls)"
   ]
  },
  {
   "cell_type": "code",
   "execution_count": 31,
   "metadata": {},
   "outputs": [
    {
     "name": "stdout",
     "output_type": "stream",
     "text": [
      "accuracy score: 84.90%\n",
      "--------------------------------------------------------------------------------\n",
      "Confusion Matrix\n",
      "\n",
      "          sadness   joy  love  anger  fear  surprise\n",
      "sadness      1187    63    16     34    26         1\n",
      "joy            36  1335    71     12    18         9\n",
      "love            8    69   269      4     2         5\n",
      "anger          50    45     6    510    30         7\n",
      "fear           27    20     6     20   405        38\n",
      "surprise        7    42     2      1    26       234\n",
      "--------------------------------------------------------------------------------\n",
      "Classification Report\n",
      "\n",
      "              precision    recall  f1-score   support\n",
      "\n",
      "     sadness       0.88      0.79      0.83       648\n",
      "         joy       0.80      0.78      0.79       516\n",
      "        love       0.85      0.90      0.87      1481\n",
      "       anger       0.73      0.75      0.74       357\n",
      "        fear       0.90      0.89      0.90      1327\n",
      "    surprise       0.80      0.75      0.77       312\n",
      "\n",
      "   micro avg       0.85      0.85      0.85      4641\n",
      "   macro avg       0.83      0.81      0.82      4641\n",
      "weighted avg       0.85      0.85      0.85      4641\n",
      "\n",
      "KFold(n_splits=10, random_state=None, shuffle=True)\n",
      "0.8623141564318035\n",
      "0.8442146089204913\n",
      "0.8396897220426632\n",
      "0.8648998060762767\n",
      "0.8584356819650937\n",
      "0.8726567550096962\n",
      "0.8526179702650291\n",
      "0.8720103425985779\n",
      "0.8461538461538461\n",
      "0.8615782664941786\n",
      "Avg Accuracy 0.8574571155957654\n"
     ]
    }
   ],
   "source": [
    "mf_ = 2500\n",
    "ng_ = (1,2)\n",
    "sentiment_fit, ug_pipeline = classifivation_report(mf_, ng_, spl_)"
   ]
  },
  {
   "cell_type": "code",
   "execution_count": 32,
   "metadata": {},
   "outputs": [
    {
     "name": "stdout",
     "output_type": "stream",
     "text": [
      "LinearSVC(C=1.0, class_weight=None, dual=True, fit_intercept=True,\n",
      "     intercept_scaling=1, loss='squared_hinge', max_iter=1000,\n",
      "     multi_class='ovr', penalty='l2', random_state=None, tol=0.0001,\n",
      "     verbose=0)\n"
     ]
    },
    {
     "data": {
      "image/png": "[encoded data removed]",
      "text/plain": [
       "<Figure size 576x432 with 1 Axes>"
      ]
     },
     "metadata": {
      "needs_background": "light"
     },
     "output_type": "display_data"
    }
   ],
   "source": [
    "cls = LinearSVC()\n",
    "get_best_ngrams(cvec, n_features, stp, cls)"
   ]
  },
  {
   "cell_type": "code",
   "execution_count": 33,
   "metadata": {},
   "outputs": [
    {
     "name": "stdout",
     "output_type": "stream",
     "text": [
      "accuracy score: 89.01%\n",
      "--------------------------------------------------------------------------------\n",
      "Confusion Matrix\n",
      "\n",
      "          sadness   joy  love  anger  fear  surprise\n",
      "sadness      1229    38     8     30    15         7\n",
      "joy            23  1369    55     10     9        15\n",
      "love            7    59   287      3     1         0\n",
      "anger          39    24     2    549    30         4\n",
      "fear           22    14     4      7   435        34\n",
      "surprise        2    18     1      1    28       262\n",
      "--------------------------------------------------------------------------------\n",
      "Classification Report\n",
      "\n",
      "              precision    recall  f1-score   support\n",
      "\n",
      "     sadness       0.92      0.85      0.88       648\n",
      "         joy       0.84      0.84      0.84       516\n",
      "        love       0.90      0.92      0.91      1481\n",
      "       anger       0.80      0.80      0.80       357\n",
      "        fear       0.93      0.93      0.93      1327\n",
      "    surprise       0.81      0.84      0.83       312\n",
      "\n",
      "   micro avg       0.89      0.89      0.89      4641\n",
      "   macro avg       0.87      0.86      0.87      4641\n",
      "weighted avg       0.89      0.89      0.89      4641\n",
      "\n",
      "KFold(n_splits=10, random_state=None, shuffle=True)\n",
      "0.8707175177763413\n",
      "0.8771816418875242\n",
      "0.8752424046541694\n",
      "0.881060116354234\n",
      "0.9004524886877828\n",
      "0.8933419521654816\n",
      "0.8888170652876535\n",
      "0.8797672915319974\n",
      "0.898513251454428\n",
      "0.890038809831824\n",
      "Avg Accuracy 0.8855132539631437\n"
     ]
    }
   ],
   "source": [
    "mf_ = 8000\n",
    "ng_ = (1,2)\n",
    "sentiment_fit, ug_pipeline = classifivation_report(mf_, ng_, spl_)"
   ]
  },
  {
   "cell_type": "code",
   "execution_count": 34,
   "metadata": {},
   "outputs": [
    {
     "name": "stdout",
     "output_type": "stream",
     "text": [
      "SVC(C=1, cache_size=200, class_weight=None, coef0=0.0,\n",
      "  decision_function_shape='ovr', degree=3, gamma=0.01, kernel='rbf',\n",
      "  max_iter=-1, probability=False, random_state=0, shrinking=True,\n",
      "  tol=0.001, verbose=False)\n"
     ]
    },
    {
     "data": {
      "image/png": "[encoded data removed]",
      "text/plain": [
       "<Figure size 576x432 with 1 Axes>"
      ]
     },
     "metadata": {
      "needs_background": "light"
     },
     "output_type": "display_data"
    }
   ],
   "source": [
    "cls = SVC(kernel='rbf', random_state=0, gamma=.01, C=1)\n",
    "get_best_ngrams(cvec, n_features, stp, cls)"
   ]
  },
  {
   "cell_type": "code",
   "execution_count": null,
   "metadata": {},
   "outputs": [],
   "source": [
    "mf_ = 5000\n",
    "ng_ = (1,3)\n",
    "sentiment_fit, ug_pipeline = classifivation_report(mf_, ng_, spl_)"
   ]
  },
  {
   "cell_type": "code",
   "execution_count": null,
   "metadata": {
    "scrolled": false
   },
   "outputs": [],
   "source": [
    "cls = SGDClassifier()\n",
    "get_best_ngrams(cvec, n_features, stp, cls)"
   ]
  },
  {
   "cell_type": "code",
   "execution_count": null,
   "metadata": {},
   "outputs": [],
   "source": [
    "mf_ = 5500\n",
    "ng_ = (1,2)\n",
    "sentiment_fit, ug_pipeline = classifivation_report(mf_, ng_, spl_)"
   ]
  },
  {
   "cell_type": "code",
   "execution_count": null,
   "metadata": {},
   "outputs": [],
   "source": [
    "cls = KNeighborsClassifier()\n",
    "get_best_ngrams(cvec, n_features, stp, cls)"
   ]
  },
  {
   "cell_type": "code",
   "execution_count": null,
   "metadata": {},
   "outputs": [],
   "source": [
    "mf_ = 8500\n",
    "ng_ = (1,3)\n",
    "sentiment_fit, ug_pipeline = classifivation_report(mf_, ng_, spl_)"
   ]
  },
  {
   "cell_type": "code",
   "execution_count": null,
   "metadata": {},
   "outputs": [],
   "source": [
    "from sklearn.model_selection import cross_val_score\n",
    "scores = cross_val_score(ug_pipeline, x, y, cv=10)\n",
    "scores\n",
    "print(\"Accuracy: %0.2f (+/- %0.2f)\" % (scores.mean(), scores.std() * 2))"
   ]
  },
  {
   "cell_type": "code",
   "execution_count": 38,
   "metadata": {},
   "outputs": [
    {
     "name": "stderr",
     "output_type": "stream",
     "text": [
      "C:\\Users\\Kopal-PC\\Anaconda3\\envs\\tensorflow\\lib\\site-packages\\sklearn\\ensemble\\forest.py:246: FutureWarning: The default value of n_estimators will change from 10 in version 0.20 to 100 in 0.22.\n",
      "  \"10 in version 0.20 to 100 in 0.22.\", FutureWarning)\n"
     ]
    },
    {
     "name": "stdout",
     "output_type": "stream",
     "text": [
      "RandomForestClassifier(bootstrap=True, class_weight=None, criterion='gini',\n",
      "            max_depth=None, max_features='auto', max_leaf_nodes=None,\n",
      "            min_impurity_decrease=0.0, min_impurity_split=None,\n",
      "            min_samples_leaf=1, min_samples_split=2,\n",
      "            min_weight_fraction_leaf=0.0, n_estimators=10, n_jobs=None,\n",
      "            oob_score=False, random_state=None, verbose=0,\n",
      "            warm_start=False)\n"
     ]
    },
    {
     "data": {
      "image/png": "[encoded data removed]",
      "text/plain": [
       "<Figure size 576x432 with 1 Axes>"
      ]
     },
     "metadata": {
      "needs_background": "light"
     },
     "output_type": "display_data"
    }
   ],
   "source": [
    "cls = RandomForestClassifier()\n",
    "get_best_ngrams(cvec, n_features, stp, cls)"
   ]
  },
  {
   "cell_type": "code",
   "execution_count": 39,
   "metadata": {},
   "outputs": [
    {
     "name": "stdout",
     "output_type": "stream",
     "text": [
      "accuracy score: 87.11%\n",
      "--------------------------------------------------------------------------------\n",
      "Confusion Matrix\n",
      "\n",
      "          sadness   joy  love  anger  fear  surprise\n",
      "sadness      1182    54     9     45    28         9\n",
      "joy            45  1313    59     25    20        19\n",
      "love            3    62   284      3     3         2\n",
      "anger          34    26     1    551    31         5\n",
      "fear           21    13     0      9   432        41\n",
      "surprise        2     6     0      4    19       281\n",
      "--------------------------------------------------------------------------------\n",
      "Classification Report\n",
      "\n",
      "              precision    recall  f1-score   support\n",
      "\n",
      "     sadness       0.86      0.85      0.86       648\n",
      "         joy       0.81      0.84      0.82       516\n",
      "        love       0.89      0.89      0.89      1481\n",
      "       anger       0.80      0.80      0.80       357\n",
      "        fear       0.92      0.89      0.90      1327\n",
      "    surprise       0.79      0.90      0.84       312\n",
      "\n",
      "   micro avg       0.87      0.87      0.87      4641\n",
      "   macro avg       0.85      0.86      0.85      4641\n",
      "weighted avg       0.87      0.87      0.87      4641\n",
      "\n",
      "KFold(n_splits=10, random_state=None, shuffle=True)\n",
      "0.8616677440206852\n",
      "0.8623141564318035\n",
      "0.8771816418875242\n",
      "0.8674854557207499\n",
      "0.8804137039431157\n",
      "0.861021331609567\n",
      "0.8720103425985779\n",
      "0.8603749191984487\n",
      "0.8720103425985779\n",
      "0.8848641655886158\n",
      "Avg Accuracy 0.8699343803597668\n"
     ]
    }
   ],
   "source": [
    "mf_ = 7500\n",
    "ng_ = (1,3)\n",
    "sentiment_fit, ug_pipeline = classifivation_report(mf_, ng_, spl_)"
   ]
  },
  {
   "cell_type": "code",
   "execution_count": null,
   "metadata": {},
   "outputs": [],
   "source": [
    "def predictUnseen():\n",
    "    \n",
    "    y_pred = sentiment_fit.predict(['Damm servers still down  i need to hit 80 before all the koxpers pass me'])\n",
    "    y_pred"
   ]
  }
 ],
 "metadata": {
  "kernelspec": {
   "display_name": "Python 3",
   "language": "python",
   "name": "python3"
  },
  "language_info": {
   "codemirror_mode": {
    "name": "ipython",
    "version": 3
   },
   "file_extension": ".py",
   "mimetype": "text/x-python",
   "name": "python",
   "nbconvert_exporter": "python",
   "pygments_lexer": "ipython3",
   "version": "3.7.2"
  }
 },
 "nbformat": 4,
 "nbformat_minor": 2
}
